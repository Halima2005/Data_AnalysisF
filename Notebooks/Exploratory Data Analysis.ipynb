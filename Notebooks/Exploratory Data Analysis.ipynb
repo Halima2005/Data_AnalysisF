{
 "cells": [
  {
   "cell_type": "code",
   "execution_count": null,
   "id": "00e7989b-2026-4983-85a0-9bf13c9a8d73",
   "metadata": {},
   "outputs": [],
   "source": [
    "import pandas as pd\n",
    "import sqlite3"
   ]
  },
  {
   "cell_type": "code",
   "execution_count": null,
   "id": "6094c573-c467-4bc7-b507-aba5eaa1f077",
   "metadata": {},
   "outputs": [],
   "source": [
    "conn = sqlite3.connect('inventory.db')"
   ]
  },
  {
   "cell_type": "code",
   "execution_count": null,
   "id": "962105f4-4cfd-4c1c-a579-f36ecf98cb77",
   "metadata": {},
   "outputs": [],
   "source": [
    "tables = pd.read_sql_query(\"SELECT name FROM sqlite_master WHERE type ='table'\",conn)\n",
    "tables"
   ]
  },
  {
   "cell_type": "code",
   "execution_count": null,
   "id": "6cabf157-d224-456f-bc1b-13cc25787caa",
   "metadata": {},
   "outputs": [],
   "source": [
    "for table in tables['name']:\n",
    "    print('-'*50,f'{table}','-'*50)\n",
    "    print('Count of records:',pd.read_sql(f\"select count(*) as count from {table}\",conn)['count'].values[0])\n",
    "    display(pd.read_sql(f\"select *  from {table} limit 5\",conn))\n",
    "\n",
    "\n"
   ]
  },
  {
   "cell_type": "code",
   "execution_count": null,
   "id": "68087dac-b3b6-4ebc-ad2f-7361077f2c24",
   "metadata": {},
   "outputs": [],
   "source": [
    "purchases = pd.read_sql_query(\"select *from purchases where VendorNumber = 4466\",conn)\n",
    "purchases"
   ]
  },
  {
   "cell_type": "code",
   "execution_count": null,
   "id": "921b7e22-1429-4398-acae-46124c4c8945",
   "metadata": {},
   "outputs": [],
   "source": [
    "purchase_prices = pd.read_sql_query(\"\"\"select * from purchase_prices where VendorNumber = 4466\"\"\",conn)\n",
    "purchase_prices"
   ]
  },
  {
   "cell_type": "code",
   "execution_count": null,
   "id": "e35e1096-0f9e-4b5f-8de3-03b7c281559e",
   "metadata": {},
   "outputs": [],
   "source": [
    "vendor_invoice = pd.read_sql_query(\"select *from vendor_invoice where VendorNumber = 4466\",conn)\n",
    "vendor_invoice"
   ]
  },
  {
   "cell_type": "code",
   "execution_count": null,
   "id": "7d90fd64-01fa-491f-b420-f52e4d1ae72a",
   "metadata": {},
   "outputs": [],
   "source": [
    "sales = pd.read_sql_query(\"select *from sales where VendorNo = 4466\",conn)\n",
    "sales"
   ]
  },
  {
   "cell_type": "code",
   "execution_count": null,
   "id": "f09e2fc2-3614-4dcd-a530-d1d54fd6273a",
   "metadata": {},
   "outputs": [],
   "source": [
    "purchases.groupby(['Brand','PurchasePrice'])[['Quantity','Dollars']].sum()"
   ]
  },
  {
   "cell_type": "code",
   "execution_count": null,
   "id": "babc2f52-910c-422f-8da8-839d139da685",
   "metadata": {},
   "outputs": [],
   "source": [
    "purchase_prices\n"
   ]
  },
  {
   "cell_type": "code",
   "execution_count": null,
   "id": "e80d3543-e38d-41b3-9d0e-6774f76a52e5",
   "metadata": {},
   "outputs": [],
   "source": [
    "vendor_invoice['PONumber'].nunique()"
   ]
  },
  {
   "cell_type": "code",
   "execution_count": null,
   "id": "8895fddd-234c-4acf-955f-b647d759f42b",
   "metadata": {},
   "outputs": [],
   "source": [
    "purchases"
   ]
  },
  {
   "cell_type": "code",
   "execution_count": null,
   "id": "a7658c2a-0d0f-4003-8b8f-f789021075e2",
   "metadata": {},
   "outputs": [],
   "source": [
    "vendor_invoice.columns"
   ]
  },
  {
   "cell_type": "code",
   "execution_count": null,
   "id": "793ba55c-3852-4c7c-b820-d23be2aca9ba",
   "metadata": {},
   "outputs": [],
   "source": [
    "sales.groupby('Brand')[['SalesDollars','SalesPrice','SalesQuantity']].sum()\n"
   ]
  },
  {
   "cell_type": "code",
   "execution_count": null,
   "id": "c8cdf57d-5c13-4cdb-8078-24e06fc1421a",
   "metadata": {},
   "outputs": [],
   "source": [
    "vendor_invoice.columns"
   ]
  },
  {
   "cell_type": "code",
   "execution_count": null,
   "id": "826673e2-28ca-4501-a735-ee8376c95688",
   "metadata": {},
   "outputs": [],
   "source": [
    "freight_summary = pd.read_sql_query(\"\"\"select VendorNumber, SUM(Freight) as FreightCost\n",
    "From vendor_invoice\n",
    "Group BY VendorNumber\"\"\",conn)\n",
    "freight_summary"
   ]
  },
  {
   "cell_type": "code",
   "execution_count": null,
   "id": "a68406c8-6596-43a9-8fc2-ca9896efac18",
   "metadata": {},
   "outputs": [],
   "source": [
    "purchase_prices.columns"
   ]
  },
  {
   "cell_type": "code",
   "execution_count": null,
   "id": "b0784fcc-bbab-4b5f-9d01-fb89461df1b1",
   "metadata": {},
   "outputs": [],
   "source": [
    "purchases.columns"
   ]
  },
  {
   "cell_type": "code",
   "execution_count": null,
   "id": "0027f003-be86-411b-ac3b-9cf16d70c3f1",
   "metadata": {},
   "outputs": [],
   "source": [
    "pd.read_sql_query(\"\"\"SELECT\n",
    "    p.VendorNumber,\n",
    "    p.VendorName,\n",
    "    p.Brand,\n",
    "    p.PurchasePrice,\n",
    "    pp.Volume,\n",
    "    pp.Price as ActualPrice,\n",
    "    SUM(p.Quantity) as TotalPurchaseQuantity,\n",
    "    SUM(p.Dollars) as TotalPurchaseDollars\n",
    "    FROM purchases p\n",
    "    JOIN purchase_prices pp\n",
    "    ON p.Brand = pp.Brand\n",
    "    where p.PurchasePrice > 0\n",
    "    GROUP BY p.VendorNumber,p.VendorName,p.Brand\n",
    "    ORDER BY  TotalPurchaseDollars\"\"\",conn)"
   ]
  },
  {
   "cell_type": "code",
   "execution_count": null,
   "id": "41565ebf-66b2-419a-9645-fda8ac763670",
   "metadata": {},
   "outputs": [],
   "source": [
    "sales.columns"
   ]
  },
  {
   "cell_type": "code",
   "execution_count": null,
   "id": "85093c24-3340-468d-bbdd-544e14e1935a",
   "metadata": {},
   "outputs": [],
   "source": [
    "pd.read_sql_query(\"\"\"SELECT \n",
    "VendorNo,\n",
    "Brand,\n",
    "SUM(SalesDollars) as TotalSalesDollars,\n",
    "SUM(SalesPrice) as TotalSalesPrice,\n",
    "SUM(SalesQuantity) as TotalSalesQuantity,\n",
    "SUM(ExciseTax) as TotalExciseTax\n",
    "FROM sales\n",
    "GROUP BY VendorNo,Brand\n",
    "ORDER BY TotalSalesDollars\"\"\",conn)"
   ]
  },
  {
   "cell_type": "code",
   "execution_count": null,
   "id": "9ba21f5c-6f06-4369-8370-0256abbaf39d",
   "metadata": {},
   "outputs": [],
   "source": [
    "vendor_sales_summary = pd.read_sql_query(\"\"\"\n",
    "WITH FreightSummary AS (\n",
    "    SELECT\n",
    "        VendorNumber,\n",
    "        SUM(Freight) AS FreightCost\n",
    "    FROM vendor_invoice\n",
    "    GROUP BY VendorNumber\n",
    "),\n",
    "PurchaseSummary AS (\n",
    "    SELECT\n",
    "        p.VendorNumber,\n",
    "        p.VendorName,\n",
    "        p.Brand,\n",
    "        p.Description,\n",
    "        p.PurchasePrice,\n",
    "        pp.Volume,\n",
    "        pp.Price as ActualPrice,\n",
    "        SUM(p.Quantity) as TotalPurchaseQuantity,\n",
    "        SUM(p.Dollars) as TotalPurchaseDollars\n",
    "    FROM purchases p\n",
    "    JOIN purchase_prices pp\n",
    "        ON p.Brand = pp.Brand\n",
    "    WHERE p.PurchasePrice > 0\n",
    "    GROUP BY p.VendorNumber, p.VendorName, p.Brand, p.Description, p.PurchasePrice, pp.Volume\n",
    "),\n",
    "SalesSummary AS (\n",
    "    SELECT \n",
    "        VendorNo,\n",
    "        Brand,\n",
    "        SUM(SalesDollars) as TotalSalesDollars,\n",
    "        SUM(SalesPrice) as TotalSalesPrice,\n",
    "        SUM(SalesQuantity) as TotalSalesQuantity,\n",
    "        SUM(ExciseTax) as TotalExciseTax\n",
    "    FROM sales\n",
    "    GROUP BY VendorNo, Brand\n",
    ")\n",
    "SELECT\n",
    "    ps.VendorNumber,\n",
    "    ps.VendorName,\n",
    "    ps.Brand,\n",
    "    ps.Description,\n",
    "    ps.PurchasePrice,\n",
    "    ps.ActualPrice,\n",
    "    ps.Volume,\n",
    "    ps.TotalPurchaseQuantity,\n",
    "    ps.TotalPurchaseDollars,\n",
    "    ss.TotalSalesQuantity,\n",
    "    ss.TotalSalesDollars,\n",
    "    ss.TotalSalesPrice,\n",
    "    ss.TotalExciseTax,\n",
    "    fs.FreightCost\n",
    "FROM PurchaseSummary ps\n",
    "LEFT JOIN SalesSummary ss\n",
    "    ON ps.VendorNumber = ss.VendorNo\n",
    "    AND ps.Brand = ss.Brand\n",
    "LEFT JOIN FreightSummary fs\n",
    "    ON ps.VendorNumber = fs.VendorNumber\n",
    "ORDER BY ps.TotalPurchaseDollars DESC\n",
    "\"\"\", conn)\n"
   ]
  },
  {
   "cell_type": "code",
   "execution_count": null,
   "id": "2673b5fd-d7cb-4d27-95d9-0904006a1ba3",
   "metadata": {},
   "outputs": [],
   "source": [
    "vendor_sales_summary"
   ]
  },
  {
   "cell_type": "code",
   "execution_count": null,
   "id": "40780590-919a-4b3e-84a4-99a29110c3bb",
   "metadata": {},
   "outputs": [],
   "source": [
    "vendor_sales_summary.dtypes"
   ]
  },
  {
   "cell_type": "code",
   "execution_count": null,
   "id": "8c4f889d-e4cb-4eeb-84a8-7dca6c6a25a8",
   "metadata": {},
   "outputs": [],
   "source": [
    "vendor_sales_summary.isnull().sum()"
   ]
  },
  {
   "cell_type": "code",
   "execution_count": null,
   "id": "6d341e0c-3e6c-4570-8498-218688926cb0",
   "metadata": {},
   "outputs": [],
   "source": [
    "vendor_sales_summary['VendorName'].unique()"
   ]
  },
  {
   "cell_type": "code",
   "execution_count": null,
   "id": "0ccccbb8-49f6-4b31-b4bd-0608fe79520f",
   "metadata": {},
   "outputs": [],
   "source": [
    "vendor_sales_summary['Volume'] = vendor_sales_summary['Volume'].astype('float64')"
   ]
  },
  {
   "cell_type": "code",
   "execution_count": null,
   "id": "26f530cb-c930-485f-b101-cd62e05c66cd",
   "metadata": {},
   "outputs": [],
   "source": [
    "vendor_sales_summary.fillna(0, inplace = True)"
   ]
  },
  {
   "cell_type": "code",
   "execution_count": null,
   "id": "60e6fc19-9452-4a0b-a4cf-0dfa8f8a4fc1",
   "metadata": {},
   "outputs": [],
   "source": [
    "vendor_sales_summary['VendorName'].str.strip()"
   ]
  },
  {
   "cell_type": "code",
   "execution_count": null,
   "id": "4e2758ae-16c6-46b9-b5cf-e6d4585bab96",
   "metadata": {},
   "outputs": [],
   "source": [
    "vendor_sales_summary['GrossProfit'] = vendor_sales_summary['TotalSalesDollars'] - vendor_sales_summary ['TotalPurchaseDollars']"
   ]
  },
  {
   "cell_type": "code",
   "execution_count": null,
   "id": "b599c8b6-6d2d-475c-90c3-ca5b44714330",
   "metadata": {},
   "outputs": [],
   "source": [
    "vendor_sales_summary['GrossProfit'].min()"
   ]
  },
  {
   "cell_type": "code",
   "execution_count": null,
   "id": "5c137568-a828-44f3-9d65-a41635813f6b",
   "metadata": {},
   "outputs": [],
   "source": [
    "vendor_sales_summary['ProfitMargin'] =vendor_sales_summary['GrossProfit']/vendor_sales_summary['TotalSalesDollars']*100"
   ]
  },
  {
   "cell_type": "code",
   "execution_count": null,
   "id": "c092aca3-61ef-4bae-9bc9-a2aed2e9e35a",
   "metadata": {},
   "outputs": [],
   "source": [
    "vendor_sales_summary['StockTurnover'] =vendor_sales_summary['TotalSalesQuantity']/vendor_sales_summary['TotalPurchaseQuantity']"
   ]
  },
  {
   "cell_type": "code",
   "execution_count": null,
   "id": "4ddd9bdb-397e-4f40-91f2-60511f36e518",
   "metadata": {},
   "outputs": [],
   "source": [
    "vendor_sales_summary['SalestoPurchaseRatio'] = vendor_sales_summary['TotalSalesDollars']/vendor_sales_summary['TotalPurchaseDollars']"
   ]
  },
  {
   "cell_type": "code",
   "execution_count": null,
   "id": "9764401e-0015-411b-a0db-c9fc6767b608",
   "metadata": {},
   "outputs": [],
   "source": [
    "vendor_sales_summary.columns"
   ]
  },
  {
   "cell_type": "code",
   "execution_count": null,
   "id": "78a334c9-8fe8-45e1-8fbf-9314d40a360d",
   "metadata": {},
   "outputs": [],
   "source": [
    "cursor =  conn.cursor()"
   ]
  },
  {
   "cell_type": "code",
   "execution_count": null,
   "id": "54b5b030-cde3-41b7-99b9-ed4ff00996ca",
   "metadata": {},
   "outputs": [],
   "source": [
    "cursor.execute(\"\"\"CREATE TABLE vendor_sales_summary (\n",
    "    VendorNumber INT,\n",
    "    VendorName VARCHAR(100),\n",
    "    Brand INT,\n",
    "    Description VARCHAR(100),\n",
    "    PurchasePrice DECIMAL(10,2),\n",
    "    Volume,\n",
    "    TotalPurchaseQuantity INT,\n",
    "    TotalPurrchaseDollars DECIMAL(15,2),\n",
    "    TotalSalesQuantity INT,\n",
    "    TotalSalesDollars DECIMAL(15,2),\n",
    "    TotalSalesPrice DECIMAL(15,2),\n",
    "    TotalExciseTax DECIMAL(15,2),\n",
    "    FreightCost DECIMAL(15,2),\n",
    "    GrossProfit DECIMAL(15,2),\n",
    "    ProfitMargin DECIMAL(15,2),\n",
    "    StockTurnover DECIMAL(15,2),\n",
    "    SalesToPurchseRatio DECIMAL(15,2),\n",
    "    PRIMARY KEY (VendorNumber, Brand)\n",
    ");\n",
    "\n",
    "\n",
    "\n",
    "\"\"\")"
   ]
  },
  {
   "cell_type": "code",
   "execution_count": null,
   "id": "b5946c75-a22f-424f-9209-9a9908d3b5ff",
   "metadata": {},
   "outputs": [],
   "source": [
    "pd.read_sql_query(\"select * from vendor_sales_summary\",conn)"
   ]
  },
  {
   "cell_type": "code",
   "execution_count": null,
   "id": "7c651273-56f8-4661-8215-f396d7356fea",
   "metadata": {},
   "outputs": [],
   "source": [
    "vendor_sales_summary.to_sql('vendor_sales_summary',conn,if_exists = 'replace',index = False)"
   ]
  },
  {
   "cell_type": "code",
   "execution_count": null,
   "id": "09f77640-7702-4c65-bf0c-30501765141e",
   "metadata": {},
   "outputs": [],
   "source": [
    "import sqlite3\n",
    "import pandas as pd\n",
    "import logging\n",
    "from ingestion_db import ingest_db\n",
    "\n",
    "\n",
    "\n",
    "logging.basicConfig(\n",
    "    filename=\"logs/get_vendor_summary.log\",\n",
    "    level=logging.DEBUG,\n",
    "    format=\"%(asctime)s- %(levelname)s - %(message)s\",\n",
    "    filemode =\"a\"\n",
    ")\n",
    "\n",
    "\n",
    "def create_vendor_summary(conn):\n",
    "    '''this function will merge the different tables to get the overall vendor summary and adding new columns in the resultant data'''\n",
    "    vendor_sales_summary = pd.read_sql_query(\"\"\"\n",
    "        WITH FreightSummary AS (\n",
    "            SELECT\n",
    "                VendorNumber,\n",
    "                SUM(Freight) AS FreightCost\n",
    "            FROM vendor_invoice\n",
    "            GROUP BY VendorNumber\n",
    "        ),\n",
    "        PurchaseSummary AS (\n",
    "            SELECT\n",
    "                p.VendorNumber,\n",
    "                p.VendorName,\n",
    "                p.Brand,\n",
    "                p.Description,\n",
    "                p.PurchasePrice,\n",
    "                pp.Volume,\n",
    "                pp.Price as ActualPrice,\n",
    "                SUM(p.Quantity) as TotalPurchaseQuantity,\n",
    "                SUM(p.Dollars) as TotalPurchaseDollars\n",
    "            FROM purchases p\n",
    "            JOIN purchase_prices pp\n",
    "                ON p.Brand = pp.Brand\n",
    "            WHERE p.PurchasePrice > 0\n",
    "            GROUP BY p.VendorNumber, p.VendorName, p.Brand, p.Description, p.PurchasePrice, pp.Volume\n",
    "        ),\n",
    "        SalesSummary AS (\n",
    "            SELECT \n",
    "                VendorNo,\n",
    "                Brand,\n",
    "                SUM(SalesDollars) as TotalSalesDollars,\n",
    "                SUM(SalesPrice) as TotalSalesPrice,\n",
    "                SUM(SalesQuantity) as TotalSalesQuantity,\n",
    "                SUM(ExciseTax) as TotalExciseTax\n",
    "            FROM sales\n",
    "            GROUP BY VendorNo, Brand\n",
    "        )\n",
    "        SELECT\n",
    "            ps.VendorNumber,\n",
    "            ps.VendorName,\n",
    "            ps.Brand,\n",
    "            ps.Description,\n",
    "            ps.PurchasePrice,\n",
    "            ps.ActualPrice,\n",
    "            ps.Volume,\n",
    "            ps.TotalPurchaseQuantity,\n",
    "            ps.TotalPurchaseDollars,\n",
    "            ss.TotalSalesQuantity,\n",
    "            ss.TotalSalesDollars,\n",
    "            ss.TotalSalesPrice,\n",
    "            ss.TotalExciseTax,\n",
    "            fs.FreightCost\n",
    "        FROM PurchaseSummary ps\n",
    "        LEFT JOIN SalesSummary ss\n",
    "            ON ps.VendorNumber = ss.VendorNo\n",
    "            AND ps.Brand = ss.Brand\n",
    "        LEFT JOIN FreightSummary fs\n",
    "            ON ps.VendorNumber = fs.VendorNumber\n",
    "        ORDER BY ps.TotalPurchaseDollars DESC\n",
    "        \"\"\", conn)\n",
    "        \n",
    "\n",
    "    return  vendor_sales_summary\n",
    "\n",
    "\n",
    "def clean_data(df):\n",
    "    '''this function will clean the data'''\n",
    "    # Changing datatype to float\n",
    "    df['Volume'] = df['Volume'].astype('float64')\n",
    "\n",
    "    # Filling missing values with 0\n",
    "    df.fillna(0, inplace=True)\n",
    "\n",
    "    # Removing spaces from categorical columns\n",
    "    df['VendorName'] = df['VendorName'].str.strip()\n",
    "    df['Description'] = df['Description'].str.strip()\n",
    "\n",
    "    # Creating new columns for better analysis\n",
    "    df['GrossProfit'] = df['TotalSalesDollars'] - df['TotalPurchaseDollars']\n",
    "    df['ProfitMargin'] = (df['GrossProfit'] / df['TotalSalesDollars']) * 100\n",
    "    df['StockTurnover'] = df['TotalSalesQuantity'] / df['TotalPurchaseQuantity']\n",
    "    df['SalestoPurchaseRatio'] = df['TotalSalesDollars'] / df['TotalPurchaseDollars']\n",
    "\n",
    "    return df\n",
    "\n",
    "\n",
    "if __name__ == '__main__':\n",
    "    #creating database connection\n",
    "    conn = sqlite3.connect('inventory.db')\n",
    "\n",
    "    logging.info('Creating Vendor Summary Table......')\n",
    "    summary_df = create_vendor_summary(conn)\n",
    "    logging.info(summary_df.head())\n",
    "\n",
    "    logging.info('Cleaning Data.....')\n",
    "    clean_df = clean_data(summary_df)\n",
    "    logging.info(clean_df.head())\n",
    "\n",
    "    logging.info('Ingesting data....')\n",
    "    ingest_db(clean_df,'vendor_sales_summary',conn)\n",
    "    logging.info('Completed')\n",
    "\n",
    "\n",
    "\n",
    "\n",
    "\n",
    "\n",
    "\n",
    "\n",
    "\n",
    "\n",
    "\n",
    "\n",
    "\n",
    "\n"
   ]
  },
  {
   "cell_type": "code",
   "execution_count": null,
   "id": "478c5e23-4829-4092-b165-ca0d003b8eb8",
   "metadata": {},
   "outputs": [],
   "source": []
  },
  {
   "cell_type": "code",
   "execution_count": null,
   "id": "2f650f9d-b615-4f07-ae0c-718c1100d38f",
   "metadata": {},
   "outputs": [],
   "source": []
  },
  {
   "cell_type": "code",
   "execution_count": null,
   "id": "994dedee-3cb2-4ebe-8bd0-04d80b7cd0d6",
   "metadata": {},
   "outputs": [],
   "source": []
  },
  {
   "cell_type": "code",
   "execution_count": null,
   "id": "1569509d-9666-4ccb-8569-e1c9920acdfa",
   "metadata": {},
   "outputs": [],
   "source": []
  },
  {
   "cell_type": "code",
   "execution_count": null,
   "id": "677e2b05-068b-4a96-90a4-6ccad4d77e40",
   "metadata": {},
   "outputs": [],
   "source": []
  }
 ],
 "metadata": {
  "kernelspec": {
   "display_name": "Python 3 (ipykernel)",
   "language": "python",
   "name": "python3"
  },
  "language_info": {
   "codemirror_mode": {
    "name": "ipython",
    "version": 3
   },
   "file_extension": ".py",
   "mimetype": "text/x-python",
   "name": "python",
   "nbconvert_exporter": "python",
   "pygments_lexer": "ipython3",
   "version": "3.13.5"
  },
  "widgets": {
   "application/vnd.jupyter.widget-state+json": {
    "state": {},
    "version_major": 2,
    "version_minor": 0
   }
  }
 },
 "nbformat": 4,
 "nbformat_minor": 5
}
